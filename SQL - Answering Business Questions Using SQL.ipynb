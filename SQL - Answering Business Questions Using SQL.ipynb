{
 "cells": [
  {
   "cell_type": "markdown",
   "metadata": {
    "collapsed": true
   },
   "source": [
    "# Answering Business Questions Using SQL"
   ]
  },
  {
   "attachments": {},
   "cell_type": "markdown",
   "metadata": {},
   "source": [
    "We will analyze a modified version of a database called Chinook.\n",
    "\n",
    "The Chinook database contains information about the artists, songs, and albums from the music shop, as well as information on the shop's employees, customers, and the customers purchases. This information is contained in eleven tables. Here's a schema diagram for the Chinook database:\n",
    "\n",
    "![chinook-schema.svg](other/chinook-schema.svg)\n",
    "\n",
    "We will try to answer the following questions:\n",
    "- which genres sell the best in the USA,\n",
    "- is any sales support agent performing either better or worse than the others,\n",
    "- how business is performing at a country level,\n",
    "- what percentage of purchases are individual tracks vs whole albums."
   ]
  },
  {
   "cell_type": "markdown",
   "metadata": {},
   "source": [
    "### 1. Loading the chinook database"
   ]
  },
  {
   "cell_type": "code",
   "execution_count": 1,
   "metadata": {},
   "outputs": [],
   "source": [
    "%%capture\n",
    "%load_ext sql\n",
    "%sql sqlite:///chinook.db"
   ]
  },
  {
   "cell_type": "markdown",
   "metadata": {},
   "source": [
    "### 2. Investigating the database"
   ]
  },
  {
   "cell_type": "code",
   "execution_count": 2,
   "metadata": {},
   "outputs": [
    {
     "name": "stdout",
     "output_type": "stream",
     "text": [
      " * sqlite:///chinook.db\n",
      "Done.\n"
     ]
    },
    {
     "data": {
      "text/html": [
       "<table>\n",
       "    <thead>\n",
       "        <tr>\n",
       "            <th>name</th>\n",
       "            <th>type</th>\n",
       "        </tr>\n",
       "    </thead>\n",
       "    <tbody>\n",
       "        <tr>\n",
       "            <td>album</td>\n",
       "            <td>table</td>\n",
       "        </tr>\n",
       "        <tr>\n",
       "            <td>artist</td>\n",
       "            <td>table</td>\n",
       "        </tr>\n",
       "        <tr>\n",
       "            <td>customer</td>\n",
       "            <td>table</td>\n",
       "        </tr>\n",
       "        <tr>\n",
       "            <td>employee</td>\n",
       "            <td>table</td>\n",
       "        </tr>\n",
       "        <tr>\n",
       "            <td>genre</td>\n",
       "            <td>table</td>\n",
       "        </tr>\n",
       "        <tr>\n",
       "            <td>invoice</td>\n",
       "            <td>table</td>\n",
       "        </tr>\n",
       "        <tr>\n",
       "            <td>invoice_line</td>\n",
       "            <td>table</td>\n",
       "        </tr>\n",
       "        <tr>\n",
       "            <td>media_type</td>\n",
       "            <td>table</td>\n",
       "        </tr>\n",
       "        <tr>\n",
       "            <td>playlist</td>\n",
       "            <td>table</td>\n",
       "        </tr>\n",
       "        <tr>\n",
       "            <td>playlist_track</td>\n",
       "            <td>table</td>\n",
       "        </tr>\n",
       "        <tr>\n",
       "            <td>track</td>\n",
       "            <td>table</td>\n",
       "        </tr>\n",
       "    </tbody>\n",
       "</table>"
      ],
      "text/plain": [
       "[('album', 'table'),\n",
       " ('artist', 'table'),\n",
       " ('customer', 'table'),\n",
       " ('employee', 'table'),\n",
       " ('genre', 'table'),\n",
       " ('invoice', 'table'),\n",
       " ('invoice_line', 'table'),\n",
       " ('media_type', 'table'),\n",
       " ('playlist', 'table'),\n",
       " ('playlist_track', 'table'),\n",
       " ('track', 'table')]"
      ]
     },
     "execution_count": 2,
     "metadata": {},
     "output_type": "execute_result"
    }
   ],
   "source": [
    "%%sql\n",
    "SELECT\n",
    "    name,\n",
    "    type\n",
    "  FROM sqlite_master\n",
    " WHERE type IN (\"table\",\"view\");"
   ]
  },
  {
   "cell_type": "markdown",
   "metadata": {},
   "source": [
    "###  3. Finding out which genres sell the best in the USA"
   ]
  },
  {
   "cell_type": "markdown",
   "metadata": {
    "collapsed": true
   },
   "source": [
    "The Chinook record store has just signed a deal with a new record label, and you've been tasked with selecting the first three albums that will be added to the store, from a list of four. All four albums are by artists that don't have any tracks in the store right now - we have the artist names, and the genre of music they produce.\n",
    "\n",
    "Artist Name\t         | Genre\n",
    "---------------------|------------\n",
    "Regal\t             | Hip-Hop\n",
    "Red Tone             | Punk\n",
    "Meteor and the Girls | Pop\n",
    "Slim Jim Bites\t     | Blues\n",
    "\n",
    "The record label specializes in artists from the USA, and they have given Chinook some money to advertise the new albums in the USA, so we're interested in finding out which genres sell the best in the USA.\n",
    "\n",
    "You'll need to write a query to find out which genres sell the most tracks in the USA, write up a summary of your findings, and make a recommendation for the three artists whose albums we should purchase for the store."
   ]
  },
  {
   "cell_type": "code",
   "execution_count": 3,
   "metadata": {
    "scrolled": false
   },
   "outputs": [
    {
     "name": "stdout",
     "output_type": "stream",
     "text": [
      " * sqlite:///chinook.db\n",
      "Done.\n"
     ]
    },
    {
     "data": {
      "text/html": [
       "<table>\n",
       "    <thead>\n",
       "        <tr>\n",
       "            <th>genre</th>\n",
       "            <th>tracks_sold</th>\n",
       "            <th>percentage_sold</th>\n",
       "        </tr>\n",
       "    </thead>\n",
       "    <tbody>\n",
       "        <tr>\n",
       "            <td>Rock</td>\n",
       "            <td>561</td>\n",
       "            <td>53.4</td>\n",
       "        </tr>\n",
       "        <tr>\n",
       "            <td>Alternative &amp; Punk</td>\n",
       "            <td>130</td>\n",
       "            <td>12.4</td>\n",
       "        </tr>\n",
       "        <tr>\n",
       "            <td>Metal</td>\n",
       "            <td>124</td>\n",
       "            <td>11.8</td>\n",
       "        </tr>\n",
       "        <tr>\n",
       "            <td>R&amp;B/Soul</td>\n",
       "            <td>53</td>\n",
       "            <td>5.0</td>\n",
       "        </tr>\n",
       "        <tr>\n",
       "            <td>Blues</td>\n",
       "            <td>36</td>\n",
       "            <td>3.4</td>\n",
       "        </tr>\n",
       "        <tr>\n",
       "            <td>Alternative</td>\n",
       "            <td>35</td>\n",
       "            <td>3.3</td>\n",
       "        </tr>\n",
       "        <tr>\n",
       "            <td>Pop</td>\n",
       "            <td>22</td>\n",
       "            <td>2.1</td>\n",
       "        </tr>\n",
       "        <tr>\n",
       "            <td>Latin</td>\n",
       "            <td>22</td>\n",
       "            <td>2.1</td>\n",
       "        </tr>\n",
       "        <tr>\n",
       "            <td>Hip Hop/Rap</td>\n",
       "            <td>20</td>\n",
       "            <td>1.9</td>\n",
       "        </tr>\n",
       "        <tr>\n",
       "            <td>Jazz</td>\n",
       "            <td>14</td>\n",
       "            <td>1.3</td>\n",
       "        </tr>\n",
       "    </tbody>\n",
       "</table>"
      ],
      "text/plain": [
       "[('Rock', 561, 53.4),\n",
       " ('Alternative & Punk', 130, 12.4),\n",
       " ('Metal', 124, 11.8),\n",
       " ('R&B/Soul', 53, 5.0),\n",
       " ('Blues', 36, 3.4),\n",
       " ('Alternative', 35, 3.3),\n",
       " ('Pop', 22, 2.1),\n",
       " ('Latin', 22, 2.1),\n",
       " ('Hip Hop/Rap', 20, 1.9),\n",
       " ('Jazz', 14, 1.3)]"
      ]
     },
     "execution_count": 3,
     "metadata": {},
     "output_type": "execute_result"
    }
   ],
   "source": [
    "%%sql\n",
    "\n",
    "WITH usa_tracks_sold AS\n",
    "   (\n",
    "    SELECT il.* \n",
    "      FROM invoice_line AS il\n",
    "     INNER JOIN invoice AS i \n",
    "        ON il.invoice_id = i.invoice_id\n",
    "     INNER JOIN customer AS c \n",
    "        ON i.customer_id = c.customer_id\n",
    "     WHERE c.country = \"USA\"\n",
    "   )\n",
    "\n",
    "SELECT\n",
    "    g.name AS genre,\n",
    "    COUNT(uts.invoice_line_id) AS tracks_sold,\n",
    "    ROUND(CAST(COUNT(uts.invoice_line_id) AS FLOAT) / (\n",
    "                                                 SELECT COUNT(*) \n",
    "                                                   FROM usa_tracks_sold\n",
    "                                                 )*100, 1) AS percentage_sold\n",
    "  FROM usa_tracks_sold AS uts\n",
    " INNER JOIN track AS t \n",
    "    ON t.track_id = uts.track_id\n",
    " INNER JOIN genre AS g \n",
    "    ON g.genre_id = t.genre_id\n",
    " GROUP BY 1\n",
    " ORDER BY 2 DESC\n",
    " LIMIT 10;"
   ]
  },
  {
   "cell_type": "markdown",
   "metadata": {},
   "source": [
    "Based on the sales of tracks across different genres in the USA, we should purchase the new albums by the following artists:\n",
    "\n",
    "- Red Tone (Punk)\n",
    "- Slim Jim Bites (Blues)\n",
    "- Meteor and the Girls (Pop)\n",
    "\n",
    "It's worth keeping in mind that combined, these three genres only make up only 17% of total sales, so we should be on the lookout for artists and albums from the 'rock' genre, which accounts for 53% of sales."
   ]
  },
  {
   "cell_type": "markdown",
   "metadata": {},
   "source": [
    "## 4. Analyzing performance of sales support agents"
   ]
  },
  {
   "cell_type": "markdown",
   "metadata": {},
   "source": [
    "Each customer for the Chinook store gets assigned to a sales support agent within the company when they first make a purchase. You have been asked to analyze the purchases of customers belonging to each employee to see if any sales support agent is performing either better or worse than the others.\n",
    "\n",
    "You might like to consider whether any extra columns from the employee table explain any variance you see, or whether the variance might instead be indicative of employee performance."
   ]
  },
  {
   "cell_type": "code",
   "execution_count": 4,
   "metadata": {
    "scrolled": true
   },
   "outputs": [
    {
     "name": "stdout",
     "output_type": "stream",
     "text": [
      " * sqlite:///chinook.db\n",
      "Done.\n"
     ]
    },
    {
     "data": {
      "text/html": [
       "<table>\n",
       "    <thead>\n",
       "        <tr>\n",
       "            <th>employee_name</th>\n",
       "            <th>hire_date</th>\n",
       "            <th>total_sales</th>\n",
       "        </tr>\n",
       "    </thead>\n",
       "    <tbody>\n",
       "        <tr>\n",
       "            <td>Jane Peacock</td>\n",
       "            <td>2017-04-01 00:00:00</td>\n",
       "            <td>1731.51</td>\n",
       "        </tr>\n",
       "        <tr>\n",
       "            <td>Margaret Park</td>\n",
       "            <td>2017-05-03 00:00:00</td>\n",
       "            <td>1584.0</td>\n",
       "        </tr>\n",
       "        <tr>\n",
       "            <td>Steve Johnson</td>\n",
       "            <td>2017-10-17 00:00:00</td>\n",
       "            <td>1393.92</td>\n",
       "        </tr>\n",
       "    </tbody>\n",
       "</table>"
      ],
      "text/plain": [
       "[('Jane Peacock', '2017-04-01 00:00:00', 1731.51),\n",
       " ('Margaret Park', '2017-05-03 00:00:00', 1584.0),\n",
       " ('Steve Johnson', '2017-10-17 00:00:00', 1393.92)]"
      ]
     },
     "execution_count": 4,
     "metadata": {},
     "output_type": "execute_result"
    }
   ],
   "source": [
    "%%sql\n",
    "wITH\n",
    "    all_tables AS\n",
    "                 (\n",
    "                  SELECT\n",
    "                      e.*,\n",
    "                      i.*\n",
    "                    FROM employee AS e\n",
    "                   INNER JOIN customer AS c\n",
    "                      ON e.employee_id = c.support_rep_id\n",
    "                   INNER JOIN invoice AS i\n",
    "                      ON c.customer_id = i.customer_id\n",
    "                    WHERE e.title = 'Sales Support Agent'\n",
    "                 )\n",
    "SELECT\n",
    "    at.first_name || ' ' || at.last_name AS employee_name,\n",
    "    at.hire_date,\n",
    "    ROUND(SUM(at.total), 2) AS total_sales\n",
    "  FROM all_tables AS at\n",
    " GROUP BY at.employee_id\n",
    " ORDER BY employee_name\n",
    " LIMIT 10;\n",
    "    \n",
    "\n"
   ]
  },
  {
   "cell_type": "markdown",
   "metadata": {},
   "source": [
    "While there is a 20% difference in sales between Jane (the top employee) and Steve (the bottom employee), the difference roughly corresponds with the differences in their hiring dates."
   ]
  },
  {
   "cell_type": "markdown",
   "metadata": {},
   "source": [
    "## 5.  Sales data for customers from each different country "
   ]
  },
  {
   "cell_type": "markdown",
   "metadata": {},
   "source": [
    "The next task is to analyze the sales data for customers from each different country (country value from the customers table). \n",
    "\n",
    "We will calculate data, for each country, on the:\n",
    "- total number of customers\n",
    "- total value of sales\n",
    "- average value of sales per customer\n",
    "- customer lifetime value\n",
    "\n",
    "Because there are a number of countries with only one customer, we will group these customers as \"Other\" in analysis."
   ]
  },
  {
   "cell_type": "code",
   "execution_count": 5,
   "metadata": {
    "scrolled": true
   },
   "outputs": [
    {
     "name": "stdout",
     "output_type": "stream",
     "text": [
      " * sqlite:///chinook.db\n",
      "Done.\n"
     ]
    },
    {
     "data": {
      "text/html": [
       "<table>\n",
       "    <thead>\n",
       "        <tr>\n",
       "            <th>country</th>\n",
       "            <th>total_customers</th>\n",
       "            <th>total_sales</th>\n",
       "            <th>avg_sales</th>\n",
       "            <th>customer_lifetime_value</th>\n",
       "        </tr>\n",
       "    </thead>\n",
       "    <tbody>\n",
       "        <tr>\n",
       "            <td>USA</td>\n",
       "            <td>13</td>\n",
       "            <td>1040.49</td>\n",
       "            <td>7.94</td>\n",
       "            <td>80.04</td>\n",
       "        </tr>\n",
       "        <tr>\n",
       "            <td>Canada</td>\n",
       "            <td>8</td>\n",
       "            <td>535.59</td>\n",
       "            <td>7.05</td>\n",
       "            <td>66.95</td>\n",
       "        </tr>\n",
       "        <tr>\n",
       "            <td>Brazil</td>\n",
       "            <td>5</td>\n",
       "            <td>427.68</td>\n",
       "            <td>7.01</td>\n",
       "            <td>85.54</td>\n",
       "        </tr>\n",
       "        <tr>\n",
       "            <td>France</td>\n",
       "            <td>5</td>\n",
       "            <td>389.07</td>\n",
       "            <td>7.78</td>\n",
       "            <td>77.81</td>\n",
       "        </tr>\n",
       "        <tr>\n",
       "            <td>Germany</td>\n",
       "            <td>4</td>\n",
       "            <td>334.62</td>\n",
       "            <td>8.16</td>\n",
       "            <td>83.66</td>\n",
       "        </tr>\n",
       "        <tr>\n",
       "            <td>Czech Republic</td>\n",
       "            <td>2</td>\n",
       "            <td>273.24</td>\n",
       "            <td>9.11</td>\n",
       "            <td>136.62</td>\n",
       "        </tr>\n",
       "        <tr>\n",
       "            <td>United Kingdom</td>\n",
       "            <td>3</td>\n",
       "            <td>245.52</td>\n",
       "            <td>8.77</td>\n",
       "            <td>81.84</td>\n",
       "        </tr>\n",
       "        <tr>\n",
       "            <td>Portugal</td>\n",
       "            <td>2</td>\n",
       "            <td>185.13</td>\n",
       "            <td>6.38</td>\n",
       "            <td>92.57</td>\n",
       "        </tr>\n",
       "        <tr>\n",
       "            <td>India</td>\n",
       "            <td>2</td>\n",
       "            <td>183.15</td>\n",
       "            <td>8.72</td>\n",
       "            <td>91.57</td>\n",
       "        </tr>\n",
       "        <tr>\n",
       "            <td>Other</td>\n",
       "            <td>15</td>\n",
       "            <td>1094.94</td>\n",
       "            <td>7.45</td>\n",
       "            <td>73.0</td>\n",
       "        </tr>\n",
       "    </tbody>\n",
       "</table>"
      ],
      "text/plain": [
       "[('USA', 13, 1040.49, 7.94, 80.04),\n",
       " ('Canada', 8, 535.59, 7.05, 66.95),\n",
       " ('Brazil', 5, 427.68, 7.01, 85.54),\n",
       " ('France', 5, 389.07, 7.78, 77.81),\n",
       " ('Germany', 4, 334.62, 8.16, 83.66),\n",
       " ('Czech Republic', 2, 273.24, 9.11, 136.62),\n",
       " ('United Kingdom', 3, 245.52, 8.77, 81.84),\n",
       " ('Portugal', 2, 185.13, 6.38, 92.57),\n",
       " ('India', 2, 183.15, 8.72, 91.57),\n",
       " ('Other', 15, 1094.94, 7.45, 73.0)]"
      ]
     },
     "execution_count": 5,
     "metadata": {},
     "output_type": "execute_result"
    }
   ],
   "source": [
    "%%sql\n",
    "WITH\n",
    "    tabel AS\n",
    "            (\n",
    "            SELECT\n",
    "                CASE\n",
    "                    WHEN (SELECT\n",
    "                               COUNT(*)\n",
    "                            FROM customer\n",
    "                           WHERE country = c.country\n",
    "                          ) = 1 THEN 'Other'\n",
    "                    ELSE c.country\n",
    "                END AS country_2,\n",
    "                c.customer_id,\n",
    "                i.total\n",
    "              FROM customer AS c\n",
    "              LEFT JOIN invoice AS i\n",
    "                ON c.customer_id = i.customer_id\n",
    "            )   \n",
    "SELECT\n",
    "    country,\n",
    "    total_customers,\n",
    "    total_sales,\n",
    "    avg_sales,\n",
    "    customer_lifetime_value\n",
    "  FROM(\n",
    "      SELECT\n",
    "          country_2 AS country,\n",
    "          COUNT(DISTINCT customer_id) AS total_customers,\n",
    "          ROUND(SUM(total), 2) AS total_sales,\n",
    "          ROUND(AVG(total), 2) AS avg_sales,\n",
    "          ROUND(SUM(total) / count(distinct customer_id), 2) AS customer_lifetime_value,\n",
    "          CASE\n",
    "              WHEN country_2 = \"Other\" THEN 1\n",
    "              ELSE 0\n",
    "          END AS sort  \n",
    "       FROM tabel\n",
    "      GROUP BY country_2\n",
    "      ORDER BY sort ASC, total_sales DESC\n",
    "  );\n",
    "    \n"
   ]
  },
  {
   "cell_type": "markdown",
   "metadata": {},
   "source": [
    "Based on the data, there may be opportunity in the following countries:\n",
    "\n",
    "- Czech Republic\n",
    "- United Kingdom\n",
    "- India\n",
    "\n",
    "It's worth keeping in mind that because the amount of data from each of these countries is relatively low. Because of this, we should be cautious spending too much money on new marketing campaigns, as the sample size is not large enough to give us high confidence. A better approach would be to run small campaigns in these countries, collecting and analyzing the new customers to make sure that these trends hold with new customers."
   ]
  },
  {
   "cell_type": "markdown",
   "metadata": {},
   "source": [
    "## 6. Purchases of individual tracks vs whole albums"
   ]
  },
  {
   "cell_type": "markdown",
   "metadata": {
    "collapsed": true
   },
   "source": [
    "The Chinook store is setup in a way that allows customer to make purchases in one of the two ways:\n",
    "\n",
    "- purchase a whole album\n",
    "- purchase a collection of one or more individual tracks.\n",
    "\n",
    "The store does not let customers purchase a whole album, and then add individual tracks to that same purchase (unless they do that by choosing each track manually). When customers purchase albums they are charged the same price as if they had purchased each of those tracks separately.\n",
    "\n",
    "Management are currently considering changing their purchasing strategy to save money. The strategy they are considering is to purchase only the most popular tracks from each album from record companies, instead of purchasing every track from an album.\n",
    "\n",
    "We have been asked to find out what percentage of purchases are individual tracks vs whole albums, so that management can use this data to understand the effect this decision might have on overall revenue."
   ]
  },
  {
   "cell_type": "code",
   "execution_count": 6,
   "metadata": {
    "scrolled": false
   },
   "outputs": [
    {
     "name": "stdout",
     "output_type": "stream",
     "text": [
      " * sqlite:///chinook.db\n",
      "Done.\n"
     ]
    },
    {
     "data": {
      "text/html": [
       "<table>\n",
       "    <thead>\n",
       "        <tr>\n",
       "            <th>category</th>\n",
       "            <th>no_invoices</th>\n",
       "            <th>pct_invoices</th>\n",
       "        </tr>\n",
       "    </thead>\n",
       "    <tbody>\n",
       "        <tr>\n",
       "            <td>individual</td>\n",
       "            <td>500</td>\n",
       "            <td>81.4</td>\n",
       "        </tr>\n",
       "        <tr>\n",
       "            <td>whole</td>\n",
       "            <td>114</td>\n",
       "            <td>18.6</td>\n",
       "        </tr>\n",
       "    </tbody>\n",
       "</table>"
      ],
      "text/plain": [
       "[('individual', 500, 81.4), ('whole', 114, 18.6)]"
      ]
     },
     "execution_count": 6,
     "metadata": {},
     "output_type": "execute_result"
    }
   ],
   "source": [
    "%%sql\n",
    "\n",
    "WITH\n",
    "    connection AS\n",
    "               (\n",
    "                SELECT\n",
    "                    il.invoice_id AS invoice_id,\n",
    "                    MIN(il.track_id) AS first_track_id\n",
    "                  FROM invoice_line AS il\n",
    "                 GROUP BY il.invoice_id\n",
    "               ),\n",
    "    category AS\n",
    "               (\n",
    "                SELECT\n",
    "                    c.invoice_id,\n",
    "                    CASE\n",
    "                    WHEN (\n",
    "                           SELECT\n",
    "                               il2.track_id\n",
    "                             FROM invoice_line AS il2\n",
    "                             WHERE il2.invoice_id = c.invoice_id\n",
    "                        \n",
    "                           EXCEPT\n",
    "                        \n",
    "                           SELECT\n",
    "                               t2.track_id\n",
    "                             FROM track AS t2\n",
    "                             WHERE t2.album_id = (SELECT\n",
    "                                                     t3.album_id\n",
    "                                                   FROM track AS t3\n",
    "                                                   WHERE t3.track_id = c.first_track_id\n",
    "                                                 )       \n",
    "                           ) IS NULL\n",
    "                         AND\n",
    "                           (\n",
    "                           SELECT\n",
    "                               t4.track_id\n",
    "                             FROM track AS t4\n",
    "                            WHERE t4.album_id = (SELECT\n",
    "                                                     t5.album_id\n",
    "                                                   FROM track AS t5\n",
    "                                                   WHERE t5.track_id = c.first_track_id\n",
    "                                                )\n",
    "                           EXCEPT\n",
    "                                                \n",
    "                           SELECT\n",
    "                               il2.track_id\n",
    "                             FROM invoice_line AS il2\n",
    "                            WHERE il2.invoice_id = c.invoice_id\n",
    "                           ) IS NULL \n",
    "                    THEN 'whole'\n",
    "                    ELSE 'individual'\n",
    "                    END AS 'cat'\n",
    "                FROM connection AS c  \n",
    "               ),\n",
    "    whole AS\n",
    "               (SELECT\n",
    "                    cat AS category,\n",
    "                    COUNT(cat) AS no_invoices,\n",
    "                    ROUND(CAST(COUNT(cat) AS Float)/ (\n",
    "                                             SELECT\n",
    "                                                 COUNT(*)\n",
    "                                                FROM category \n",
    "                    )*100, 1) AS pct_invoices\n",
    "                  FROM category\n",
    "                 WHERE cat = 'whole'\n",
    "               ),\n",
    "    individual AS\n",
    "               (\n",
    "                SELECT\n",
    "                    cat AS category,\n",
    "                    COUNT(cat) AS no_invoices,\n",
    "                    ROUND(CAST(COUNT(cat) AS Float)/ (\n",
    "                                             SELECT\n",
    "                                                 COUNT(*)\n",
    "                                                FROM category \n",
    "                    )*100, 1) AS pct_invoices\n",
    "                  FROM category\n",
    "                 WHERE cat = 'individual'   \n",
    "               )\n",
    "        \n",
    "SELECT *\n",
    "  FROM whole\n",
    "    \n",
    "UNION\n",
    "\n",
    "SELECT *\n",
    "  FROM individual"
   ]
  },
  {
   "cell_type": "markdown",
   "metadata": {},
   "source": [
    "Album purchases account for 18.6% of purchases. Based on this data, I would recommend against purchasing only select tracks from albums from record companies, since there is potential to lose one fifth of revenue."
   ]
  }
 ],
 "metadata": {
  "kernelspec": {
   "display_name": "Python 3",
   "language": "python",
   "name": "python3"
  },
  "language_info": {
   "codemirror_mode": {
    "name": "ipython",
    "version": 3
   },
   "file_extension": ".py",
   "mimetype": "text/x-python",
   "name": "python",
   "nbconvert_exporter": "python",
   "pygments_lexer": "ipython3",
   "version": "3.8.8"
  }
 },
 "nbformat": 4,
 "nbformat_minor": 2
}
