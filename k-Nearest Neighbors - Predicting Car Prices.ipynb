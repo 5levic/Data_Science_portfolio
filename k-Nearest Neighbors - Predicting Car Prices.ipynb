{
 "cells": [
  {
   "cell_type": "markdown",
   "metadata": {
    "collapsed": true
   },
   "source": [
    "## k-Nearest Neighbors - Predicting Car Prices\n",
    "\n",
    "\n",
    "The goal of this project is to predict a car's market price using its attributes and applying k-nearest neighbors (KNN) algorithm of machine learning (ML). The data contains information on various cars. For each car we have information about the technical aspects of the vehicle such as the motor's displacement, the weight of the car, the miles per gallon, how fast the car accelerates, and more. You can read more about the data set [here](https://archive.ics.uci.edu/ml/datasets/automobile) and can download it directly from [here](https://archive.ics.uci.edu/ml/machine-learning-databases/autos/imports-85.data).\n"
   ]
  },
  {
   "cell_type": "markdown",
   "metadata": {},
   "source": [
    "### 1. Exploring the dataset"
   ]
  },
  {
   "cell_type": "code",
   "execution_count": 1,
   "metadata": {},
   "outputs": [],
   "source": [
    "import pandas as pd\n",
    "import numpy as np\n",
    "import matplotlib.pyplot as plt\n",
    "import seaborn as sns\n",
    "from sklearn.neighbors import KNeighborsRegressor\n",
    "from sklearn.metrics import mean_squared_error\n",
    "from sklearn.model_selection import KFold, cross_val_score\n",
    "\n",
    "%matplotlib inline\n",
    "pd.set_option('display.max_columns', 50)\n",
    "pd.set_option('display.max_rows', 50) "
   ]
  },
  {
   "cell_type": "code",
   "execution_count": 2,
   "metadata": {},
   "outputs": [
    {
     "name": "stdout",
     "output_type": "stream",
     "text": [
      "<class 'pandas.core.frame.DataFrame'>\n",
      "RangeIndex: 205 entries, 0 to 204\n",
      "Data columns (total 26 columns):\n",
      " #   Column             Non-Null Count  Dtype  \n",
      "---  ------             --------------  -----  \n",
      " 0   symboling          205 non-null    int64  \n",
      " 1   normalized-losses  205 non-null    object \n",
      " 2   make               205 non-null    object \n",
      " 3   fuel-type          205 non-null    object \n",
      " 4   aspiration         205 non-null    object \n",
      " 5   num-of-doors       205 non-null    object \n",
      " 6   body-style         205 non-null    object \n",
      " 7   drive-wheels       205 non-null    object \n",
      " 8   engine-location    205 non-null    object \n",
      " 9   wheel-base         205 non-null    float64\n",
      " 10  length             205 non-null    float64\n",
      " 11  width              205 non-null    float64\n",
      " 12  height             205 non-null    float64\n",
      " 13  curb-weight        205 non-null    int64  \n",
      " 14  engine-type        205 non-null    object \n",
      " 15  num-of-cylinders   205 non-null    object \n",
      " 16  engine-size        205 non-null    int64  \n",
      " 17  fuel-system        205 non-null    object \n",
      " 18  bore               205 non-null    object \n",
      " 19  stroke             205 non-null    object \n",
      " 20  compression-rate   205 non-null    float64\n",
      " 21  horsepower         205 non-null    object \n",
      " 22  peak-rpm           205 non-null    object \n",
      " 23  city-mpg           205 non-null    int64  \n",
      " 24  highway-mpg        205 non-null    int64  \n",
      " 25  price              205 non-null    object \n",
      "dtypes: float64(5), int64(5), object(16)\n",
      "memory usage: 41.8+ KB\n"
     ]
    }
   ],
   "source": [
    "cols = ['symboling', 'normalized-losses', 'make', 'fuel-type', 'aspiration', 'num-of-doors', 'body-style', \n",
    "        'drive-wheels', 'engine-location', 'wheel-base', 'length', 'width', 'height', 'curb-weight', 'engine-type', \n",
    "        'num-of-cylinders', 'engine-size', 'fuel-system', 'bore', 'stroke', 'compression-rate', 'horsepower', 'peak-rpm', 'city-mpg', 'highway-mpg', 'price']\n",
    "\n",
    "cars = pd.read_csv('imports-85.data', names = cols)\n",
    "cars.info()"
   ]
  },
  {
   "cell_type": "code",
   "execution_count": 3,
   "metadata": {
    "scrolled": false
   },
   "outputs": [
    {
     "data": {
      "text/html": [
       "<div>\n",
       "<style scoped>\n",
       "    .dataframe tbody tr th:only-of-type {\n",
       "        vertical-align: middle;\n",
       "    }\n",
       "\n",
       "    .dataframe tbody tr th {\n",
       "        vertical-align: top;\n",
       "    }\n",
       "\n",
       "    .dataframe thead th {\n",
       "        text-align: right;\n",
       "    }\n",
       "</style>\n",
       "<table border=\"1\" class=\"dataframe\">\n",
       "  <thead>\n",
       "    <tr style=\"text-align: right;\">\n",
       "      <th></th>\n",
       "      <th>symboling</th>\n",
       "      <th>normalized-losses</th>\n",
       "      <th>make</th>\n",
       "      <th>fuel-type</th>\n",
       "      <th>aspiration</th>\n",
       "      <th>num-of-doors</th>\n",
       "      <th>body-style</th>\n",
       "      <th>drive-wheels</th>\n",
       "      <th>engine-location</th>\n",
       "      <th>wheel-base</th>\n",
       "      <th>length</th>\n",
       "      <th>width</th>\n",
       "      <th>height</th>\n",
       "      <th>curb-weight</th>\n",
       "      <th>engine-type</th>\n",
       "      <th>num-of-cylinders</th>\n",
       "      <th>engine-size</th>\n",
       "      <th>fuel-system</th>\n",
       "      <th>bore</th>\n",
       "      <th>stroke</th>\n",
       "      <th>compression-rate</th>\n",
       "      <th>horsepower</th>\n",
       "      <th>peak-rpm</th>\n",
       "      <th>city-mpg</th>\n",
       "      <th>highway-mpg</th>\n",
       "      <th>price</th>\n",
       "    </tr>\n",
       "  </thead>\n",
       "  <tbody>\n",
       "    <tr>\n",
       "      <th>0</th>\n",
       "      <td>3</td>\n",
       "      <td>?</td>\n",
       "      <td>alfa-romero</td>\n",
       "      <td>gas</td>\n",
       "      <td>std</td>\n",
       "      <td>two</td>\n",
       "      <td>convertible</td>\n",
       "      <td>rwd</td>\n",
       "      <td>front</td>\n",
       "      <td>88.6</td>\n",
       "      <td>168.8</td>\n",
       "      <td>64.1</td>\n",
       "      <td>48.8</td>\n",
       "      <td>2548</td>\n",
       "      <td>dohc</td>\n",
       "      <td>four</td>\n",
       "      <td>130</td>\n",
       "      <td>mpfi</td>\n",
       "      <td>3.47</td>\n",
       "      <td>2.68</td>\n",
       "      <td>9.0</td>\n",
       "      <td>111</td>\n",
       "      <td>5000</td>\n",
       "      <td>21</td>\n",
       "      <td>27</td>\n",
       "      <td>13495</td>\n",
       "    </tr>\n",
       "    <tr>\n",
       "      <th>1</th>\n",
       "      <td>3</td>\n",
       "      <td>?</td>\n",
       "      <td>alfa-romero</td>\n",
       "      <td>gas</td>\n",
       "      <td>std</td>\n",
       "      <td>two</td>\n",
       "      <td>convertible</td>\n",
       "      <td>rwd</td>\n",
       "      <td>front</td>\n",
       "      <td>88.6</td>\n",
       "      <td>168.8</td>\n",
       "      <td>64.1</td>\n",
       "      <td>48.8</td>\n",
       "      <td>2548</td>\n",
       "      <td>dohc</td>\n",
       "      <td>four</td>\n",
       "      <td>130</td>\n",
       "      <td>mpfi</td>\n",
       "      <td>3.47</td>\n",
       "      <td>2.68</td>\n",
       "      <td>9.0</td>\n",
       "      <td>111</td>\n",
       "      <td>5000</td>\n",
       "      <td>21</td>\n",
       "      <td>27</td>\n",
       "      <td>16500</td>\n",
       "    </tr>\n",
       "    <tr>\n",
       "      <th>2</th>\n",
       "      <td>1</td>\n",
       "      <td>?</td>\n",
       "      <td>alfa-romero</td>\n",
       "      <td>gas</td>\n",
       "      <td>std</td>\n",
       "      <td>two</td>\n",
       "      <td>hatchback</td>\n",
       "      <td>rwd</td>\n",
       "      <td>front</td>\n",
       "      <td>94.5</td>\n",
       "      <td>171.2</td>\n",
       "      <td>65.5</td>\n",
       "      <td>52.4</td>\n",
       "      <td>2823</td>\n",
       "      <td>ohcv</td>\n",
       "      <td>six</td>\n",
       "      <td>152</td>\n",
       "      <td>mpfi</td>\n",
       "      <td>2.68</td>\n",
       "      <td>3.47</td>\n",
       "      <td>9.0</td>\n",
       "      <td>154</td>\n",
       "      <td>5000</td>\n",
       "      <td>19</td>\n",
       "      <td>26</td>\n",
       "      <td>16500</td>\n",
       "    </tr>\n",
       "  </tbody>\n",
       "</table>\n",
       "</div>"
      ],
      "text/plain": [
       "   symboling normalized-losses         make fuel-type aspiration num-of-doors  \\\n",
       "0          3                 ?  alfa-romero       gas        std          two   \n",
       "1          3                 ?  alfa-romero       gas        std          two   \n",
       "2          1                 ?  alfa-romero       gas        std          two   \n",
       "\n",
       "    body-style drive-wheels engine-location  wheel-base  length  width  \\\n",
       "0  convertible          rwd           front        88.6   168.8   64.1   \n",
       "1  convertible          rwd           front        88.6   168.8   64.1   \n",
       "2    hatchback          rwd           front        94.5   171.2   65.5   \n",
       "\n",
       "   height  curb-weight engine-type num-of-cylinders  engine-size fuel-system  \\\n",
       "0    48.8         2548        dohc             four          130        mpfi   \n",
       "1    48.8         2548        dohc             four          130        mpfi   \n",
       "2    52.4         2823        ohcv              six          152        mpfi   \n",
       "\n",
       "   bore stroke  compression-rate horsepower peak-rpm  city-mpg  highway-mpg  \\\n",
       "0  3.47   2.68               9.0        111     5000        21           27   \n",
       "1  3.47   2.68               9.0        111     5000        21           27   \n",
       "2  2.68   3.47               9.0        154     5000        19           26   \n",
       "\n",
       "   price  \n",
       "0  13495  \n",
       "1  16500  \n",
       "2  16500  "
      ]
     },
     "execution_count": 3,
     "metadata": {},
     "output_type": "execute_result"
    }
   ],
   "source": [
    "cars.head(3)"
   ]
  },
  {
   "cell_type": "markdown",
   "metadata": {},
   "source": [
    "There is no NaN values in the dataframe. However, in the normalized-losses column, there are missing values represented by \"?\", which we'll have to fix later.\n",
    "There are 205 entries (cars) in the dataframe.\n",
    "From 26 columns, we need only numeric ones that can be used as features. Let's determine which columns are numeric from the documentation and keep only them."
   ]
  },
  {
   "cell_type": "code",
   "execution_count": 4,
   "metadata": {},
   "outputs": [
    {
     "name": "stdout",
     "output_type": "stream",
     "text": [
      "<class 'pandas.core.frame.DataFrame'>\n",
      "RangeIndex: 205 entries, 0 to 204\n",
      "Data columns (total 15 columns):\n",
      " #   Column             Non-Null Count  Dtype  \n",
      "---  ------             --------------  -----  \n",
      " 0   normalized-losses  205 non-null    object \n",
      " 1   wheel-base         205 non-null    float64\n",
      " 2   length             205 non-null    float64\n",
      " 3   width              205 non-null    float64\n",
      " 4   height             205 non-null    float64\n",
      " 5   curb-weight        205 non-null    int64  \n",
      " 6   engine-size        205 non-null    int64  \n",
      " 7   bore               205 non-null    object \n",
      " 8   stroke             205 non-null    object \n",
      " 9   compression-rate   205 non-null    float64\n",
      " 10  horsepower         205 non-null    object \n",
      " 11  peak-rpm           205 non-null    object \n",
      " 12  city-mpg           205 non-null    int64  \n",
      " 13  highway-mpg        205 non-null    int64  \n",
      " 14  price              205 non-null    object \n",
      "dtypes: float64(5), int64(4), object(6)\n",
      "memory usage: 24.1+ KB\n"
     ]
    }
   ],
   "source": [
    "cars_num = cars[['normalized-losses', 'wheel-base', 'length', 'width', 'height', \n",
    "                'curb-weight', 'engine-size', 'bore', 'stroke', 'compression-rate', \n",
    "                'horsepower', 'peak-rpm', 'city-mpg', 'highway-mpg', 'price']].copy()\n",
    "cars_num.info()"
   ]
  },
  {
   "cell_type": "markdown",
   "metadata": {},
   "source": [
    "### 2. Cleaning of data\n",
    "\n",
    "We noticed that some of missing values are represented by \"?\". Let's replace the \"?\" values with NaN in the whole dataframe and double-check it for the presence of missing values again."
   ]
  },
  {
   "cell_type": "code",
   "execution_count": 5,
   "metadata": {
    "scrolled": true
   },
   "outputs": [
    {
     "name": "stdout",
     "output_type": "stream",
     "text": [
      "<class 'pandas.core.frame.DataFrame'>\n",
      "RangeIndex: 205 entries, 0 to 204\n",
      "Data columns (total 15 columns):\n",
      " #   Column             Non-Null Count  Dtype  \n",
      "---  ------             --------------  -----  \n",
      " 0   normalized-losses  164 non-null    object \n",
      " 1   wheel-base         205 non-null    float64\n",
      " 2   length             205 non-null    float64\n",
      " 3   width              205 non-null    float64\n",
      " 4   height             205 non-null    float64\n",
      " 5   curb-weight        205 non-null    int64  \n",
      " 6   engine-size        205 non-null    int64  \n",
      " 7   bore               201 non-null    object \n",
      " 8   stroke             201 non-null    object \n",
      " 9   compression-rate   205 non-null    float64\n",
      " 10  horsepower         203 non-null    object \n",
      " 11  peak-rpm           203 non-null    object \n",
      " 12  city-mpg           205 non-null    int64  \n",
      " 13  highway-mpg        205 non-null    int64  \n",
      " 14  price              201 non-null    object \n",
      "dtypes: float64(5), int64(4), object(6)\n",
      "memory usage: 24.1+ KB\n"
     ]
    }
   ],
   "source": [
    "#Replacing all '?' to np.nan\n",
    "cars_num = cars_num.replace('?', np.nan)\n",
    "cars_num.info()"
   ]
  },
  {
   "cell_type": "code",
   "execution_count": 6,
   "metadata": {
    "scrolled": false
   },
   "outputs": [
    {
     "name": "stdout",
     "output_type": "stream",
     "text": [
      "<class 'pandas.core.frame.DataFrame'>\n",
      "RangeIndex: 205 entries, 0 to 204\n",
      "Data columns (total 15 columns):\n",
      " #   Column             Non-Null Count  Dtype  \n",
      "---  ------             --------------  -----  \n",
      " 0   normalized-losses  164 non-null    float64\n",
      " 1   wheel-base         205 non-null    float64\n",
      " 2   length             205 non-null    float64\n",
      " 3   width              205 non-null    float64\n",
      " 4   height             205 non-null    float64\n",
      " 5   curb-weight        205 non-null    float64\n",
      " 6   engine-size        205 non-null    float64\n",
      " 7   bore               201 non-null    float64\n",
      " 8   stroke             201 non-null    float64\n",
      " 9   compression-rate   205 non-null    float64\n",
      " 10  horsepower         203 non-null    float64\n",
      " 11  peak-rpm           203 non-null    float64\n",
      " 12  city-mpg           205 non-null    float64\n",
      " 13  highway-mpg        205 non-null    float64\n",
      " 14  price              201 non-null    float64\n",
      "dtypes: float64(15)\n",
      "memory usage: 24.1 KB\n"
     ]
    }
   ],
   "source": [
    "#Changing the data type of all columns to float\n",
    "cars_num = cars_num.astype('float')\n",
    "cars_num.info()"
   ]
  },
  {
   "cell_type": "code",
   "execution_count": 7,
   "metadata": {},
   "outputs": [
    {
     "data": {
      "text/plain": [
       "normalized-losses    41\n",
       "wheel-base            0\n",
       "length                0\n",
       "width                 0\n",
       "height                0\n",
       "curb-weight           0\n",
       "engine-size           0\n",
       "bore                  4\n",
       "stroke                4\n",
       "compression-rate      0\n",
       "horsepower            2\n",
       "peak-rpm              2\n",
       "city-mpg              0\n",
       "highway-mpg           0\n",
       "price                 4\n",
       "dtype: int64"
      ]
     },
     "execution_count": 7,
     "metadata": {},
     "output_type": "execute_result"
    }
   ],
   "source": [
    "cars_num.isnull().sum()"
   ]
  },
  {
   "cell_type": "markdown",
   "metadata": {},
   "source": [
    "The normalized-losses column contains most of all missing values.\n",
    "\n",
    "Because price is the column we want to predict, let's remove any rows with missing price values."
   ]
  },
  {
   "cell_type": "code",
   "execution_count": 8,
   "metadata": {},
   "outputs": [
    {
     "data": {
      "text/plain": [
       "normalized-losses    37\n",
       "wheel-base            0\n",
       "length                0\n",
       "width                 0\n",
       "height                0\n",
       "curb-weight           0\n",
       "engine-size           0\n",
       "bore                  4\n",
       "stroke                4\n",
       "compression-rate      0\n",
       "horsepower            2\n",
       "peak-rpm              2\n",
       "city-mpg              0\n",
       "highway-mpg           0\n",
       "price                 0\n",
       "dtype: int64"
      ]
     },
     "execution_count": 8,
     "metadata": {},
     "output_type": "execute_result"
    }
   ],
   "source": [
    "#Removing any rows with missing `price` values.\n",
    "cars_num = cars_num[cars_num['price'].notnull()]\n",
    "cars_num.isnull().sum()"
   ]
  },
  {
   "cell_type": "markdown",
   "metadata": {},
   "source": [
    "We will fill the rest of the missing values with the mean value of each corresponding column."
   ]
  },
  {
   "cell_type": "code",
   "execution_count": 9,
   "metadata": {},
   "outputs": [
    {
     "data": {
      "text/plain": [
       "normalized-losses    0\n",
       "wheel-base           0\n",
       "length               0\n",
       "width                0\n",
       "height               0\n",
       "curb-weight          0\n",
       "engine-size          0\n",
       "bore                 0\n",
       "stroke               0\n",
       "compression-rate     0\n",
       "horsepower           0\n",
       "peak-rpm             0\n",
       "city-mpg             0\n",
       "highway-mpg          0\n",
       "price                0\n",
       "dtype: int64"
      ]
     },
     "execution_count": 9,
     "metadata": {},
     "output_type": "execute_result"
    }
   ],
   "source": [
    "#Replace missing values in other columns using column means.\n",
    "cars_num.fillna(value = cars_num.mean(), axis = 0, inplace = True)\n",
    "cars_num.isnull().sum()"
   ]
  },
  {
   "cell_type": "markdown",
   "metadata": {},
   "source": [
    "Next, we're going to normalize the values in all the numeric columns."
   ]
  },
  {
   "cell_type": "code",
   "execution_count": 10,
   "metadata": {},
   "outputs": [],
   "source": [
    "# Normalize all columnns to range from 0 to 1 except the target column.\n",
    "cars_norm = cars_num[['normalized-losses', 'wheel-base', 'length', 'width', 'height', \n",
    "                'curb-weight', 'engine-size', 'bore', 'stroke', 'compression-rate', \n",
    "                'horsepower', 'peak-rpm', 'city-mpg', 'highway-mpg']].copy()\n",
    "cars_norm = (cars_norm - cars_norm.mean())/cars_norm.std()"
   ]
  },
  {
   "cell_type": "code",
   "execution_count": 11,
   "metadata": {
    "scrolled": true
   },
   "outputs": [
    {
     "data": {
      "text/html": [
       "<div>\n",
       "<style scoped>\n",
       "    .dataframe tbody tr th:only-of-type {\n",
       "        vertical-align: middle;\n",
       "    }\n",
       "\n",
       "    .dataframe tbody tr th {\n",
       "        vertical-align: top;\n",
       "    }\n",
       "\n",
       "    .dataframe thead th {\n",
       "        text-align: right;\n",
       "    }\n",
       "</style>\n",
       "<table border=\"1\" class=\"dataframe\">\n",
       "  <thead>\n",
       "    <tr style=\"text-align: right;\">\n",
       "      <th></th>\n",
       "      <th>normalized-losses</th>\n",
       "      <th>wheel-base</th>\n",
       "      <th>length</th>\n",
       "      <th>width</th>\n",
       "      <th>height</th>\n",
       "      <th>curb-weight</th>\n",
       "      <th>engine-size</th>\n",
       "      <th>bore</th>\n",
       "      <th>stroke</th>\n",
       "      <th>compression-rate</th>\n",
       "      <th>horsepower</th>\n",
       "      <th>peak-rpm</th>\n",
       "      <th>city-mpg</th>\n",
       "      <th>highway-mpg</th>\n",
       "      <th>price</th>\n",
       "    </tr>\n",
       "  </thead>\n",
       "  <tbody>\n",
       "    <tr>\n",
       "      <th>count</th>\n",
       "      <td>2.010000e+02</td>\n",
       "      <td>2.010000e+02</td>\n",
       "      <td>2.010000e+02</td>\n",
       "      <td>2.010000e+02</td>\n",
       "      <td>2.010000e+02</td>\n",
       "      <td>2.010000e+02</td>\n",
       "      <td>2.010000e+02</td>\n",
       "      <td>2.010000e+02</td>\n",
       "      <td>2.010000e+02</td>\n",
       "      <td>2.010000e+02</td>\n",
       "      <td>2.010000e+02</td>\n",
       "      <td>2.010000e+02</td>\n",
       "      <td>2.010000e+02</td>\n",
       "      <td>2.010000e+02</td>\n",
       "      <td>201.000000</td>\n",
       "    </tr>\n",
       "    <tr>\n",
       "      <th>mean</th>\n",
       "      <td>-2.540809e-17</td>\n",
       "      <td>-1.144911e-14</td>\n",
       "      <td>-1.634072e-14</td>\n",
       "      <td>1.436772e-14</td>\n",
       "      <td>-1.983930e-14</td>\n",
       "      <td>2.640232e-16</td>\n",
       "      <td>-5.468263e-17</td>\n",
       "      <td>-2.831345e-15</td>\n",
       "      <td>1.952722e-14</td>\n",
       "      <td>-4.536172e-16</td>\n",
       "      <td>9.555651e-17</td>\n",
       "      <td>9.903631e-16</td>\n",
       "      <td>4.032153e-17</td>\n",
       "      <td>-1.673620e-16</td>\n",
       "      <td>13207.129353</td>\n",
       "    </tr>\n",
       "    <tr>\n",
       "      <th>std</th>\n",
       "      <td>1.000000e+00</td>\n",
       "      <td>1.000000e+00</td>\n",
       "      <td>1.000000e+00</td>\n",
       "      <td>1.000000e+00</td>\n",
       "      <td>1.000000e+00</td>\n",
       "      <td>1.000000e+00</td>\n",
       "      <td>1.000000e+00</td>\n",
       "      <td>1.000000e+00</td>\n",
       "      <td>1.000000e+00</td>\n",
       "      <td>1.000000e+00</td>\n",
       "      <td>1.000000e+00</td>\n",
       "      <td>1.000000e+00</td>\n",
       "      <td>1.000000e+00</td>\n",
       "      <td>1.000000e+00</td>\n",
       "      <td>7947.066342</td>\n",
       "    </tr>\n",
       "    <tr>\n",
       "      <th>min</th>\n",
       "      <td>-1.781459e+00</td>\n",
       "      <td>-2.010597e+00</td>\n",
       "      <td>-2.686295e+00</td>\n",
       "      <td>-2.659592e+00</td>\n",
       "      <td>-2.437541e+00</td>\n",
       "      <td>-2.063935e+00</td>\n",
       "      <td>-1.585575e+00</td>\n",
       "      <td>-2.949622e+00</td>\n",
       "      <td>-3.755459e+00</td>\n",
       "      <td>-7.900889e-01</td>\n",
       "      <td>-1.482566e+00</td>\n",
       "      <td>-2.023763e+00</td>\n",
       "      <td>-1.896106e+00</td>\n",
       "      <td>-2.154988e+00</td>\n",
       "      <td>5118.000000</td>\n",
       "    </tr>\n",
       "    <tr>\n",
       "      <th>25%</th>\n",
       "      <td>-6.563269e-01</td>\n",
       "      <td>-7.083343e-01</td>\n",
       "      <td>-6.006241e-01</td>\n",
       "      <td>-8.513346e-01</td>\n",
       "      <td>-7.217300e-01</td>\n",
       "      <td>-7.474756e-01</td>\n",
       "      <td>-6.950138e-01</td>\n",
       "      <td>-6.741128e-01</td>\n",
       "      <td>-4.648147e-01</td>\n",
       "      <td>-3.905848e-01</td>\n",
       "      <td>-8.937896e-01</td>\n",
       "      <td>-6.642526e-01</td>\n",
       "      <td>-9.619948e-01</td>\n",
       "      <td>-8.344009e-01</td>\n",
       "      <td>7775.000000</td>\n",
       "    </tr>\n",
       "    <tr>\n",
       "      <th>50%</th>\n",
       "      <td>0.000000e+00</td>\n",
       "      <td>-2.962260e-01</td>\n",
       "      <td>-8.123525e-02</td>\n",
       "      <td>-1.851345e-01</td>\n",
       "      <td>1.361755e-01</td>\n",
       "      <td>-2.738596e-01</td>\n",
       "      <td>-1.654909e-01</td>\n",
       "      <td>-7.725788e-02</td>\n",
       "      <td>1.047198e-01</td>\n",
       "      <td>-2.907088e-01</td>\n",
       "      <td>-2.247250e-01</td>\n",
       "      <td>1.902258e-15</td>\n",
       "      <td>-1.835690e-01</td>\n",
       "      <td>-1.007413e-01</td>\n",
       "      <td>10295.000000</td>\n",
       "    </tr>\n",
       "    <tr>\n",
       "      <th>75%</th>\n",
       "      <td>4.688049e-01</td>\n",
       "      <td>5.939281e-01</td>\n",
       "      <td>7.546561e-01</td>\n",
       "      <td>3.383084e-01</td>\n",
       "      <td>7.081124e-01</td>\n",
       "      <td>7.159012e-01</td>\n",
       "      <td>3.399628e-01</td>\n",
       "      <td>9.299349e-01</td>\n",
       "      <td>4.844095e-01</td>\n",
       "      <td>-1.908328e-01</td>\n",
       "      <td>3.372892e-01</td>\n",
       "      <td>7.998359e-01</td>\n",
       "      <td>7.505418e-01</td>\n",
       "      <td>4.861863e-01</td>\n",
       "      <td>16500.000000</td>\n",
       "    </tr>\n",
       "    <tr>\n",
       "      <th>max</th>\n",
       "      <td>4.187991e+00</td>\n",
       "      <td>3.643530e+00</td>\n",
       "      <td>2.751057e+00</td>\n",
       "      <td>2.907937e+00</td>\n",
       "      <td>2.464776e+00</td>\n",
       "      <td>2.919665e+00</td>\n",
       "      <td>4.792769e+00</td>\n",
       "      <td>2.272859e+00</td>\n",
       "      <td>2.889111e+00</td>\n",
       "      <td>3.204952e+00</td>\n",
       "      <td>4.244626e+00</td>\n",
       "      <td>3.100546e+00</td>\n",
       "      <td>3.708560e+00</td>\n",
       "      <td>3.420825e+00</td>\n",
       "      <td>45400.000000</td>\n",
       "    </tr>\n",
       "  </tbody>\n",
       "</table>\n",
       "</div>"
      ],
      "text/plain": [
       "       normalized-losses    wheel-base        length         width  \\\n",
       "count       2.010000e+02  2.010000e+02  2.010000e+02  2.010000e+02   \n",
       "mean       -2.540809e-17 -1.144911e-14 -1.634072e-14  1.436772e-14   \n",
       "std         1.000000e+00  1.000000e+00  1.000000e+00  1.000000e+00   \n",
       "min        -1.781459e+00 -2.010597e+00 -2.686295e+00 -2.659592e+00   \n",
       "25%        -6.563269e-01 -7.083343e-01 -6.006241e-01 -8.513346e-01   \n",
       "50%         0.000000e+00 -2.962260e-01 -8.123525e-02 -1.851345e-01   \n",
       "75%         4.688049e-01  5.939281e-01  7.546561e-01  3.383084e-01   \n",
       "max         4.187991e+00  3.643530e+00  2.751057e+00  2.907937e+00   \n",
       "\n",
       "             height   curb-weight   engine-size          bore        stroke  \\\n",
       "count  2.010000e+02  2.010000e+02  2.010000e+02  2.010000e+02  2.010000e+02   \n",
       "mean  -1.983930e-14  2.640232e-16 -5.468263e-17 -2.831345e-15  1.952722e-14   \n",
       "std    1.000000e+00  1.000000e+00  1.000000e+00  1.000000e+00  1.000000e+00   \n",
       "min   -2.437541e+00 -2.063935e+00 -1.585575e+00 -2.949622e+00 -3.755459e+00   \n",
       "25%   -7.217300e-01 -7.474756e-01 -6.950138e-01 -6.741128e-01 -4.648147e-01   \n",
       "50%    1.361755e-01 -2.738596e-01 -1.654909e-01 -7.725788e-02  1.047198e-01   \n",
       "75%    7.081124e-01  7.159012e-01  3.399628e-01  9.299349e-01  4.844095e-01   \n",
       "max    2.464776e+00  2.919665e+00  4.792769e+00  2.272859e+00  2.889111e+00   \n",
       "\n",
       "       compression-rate    horsepower      peak-rpm      city-mpg  \\\n",
       "count      2.010000e+02  2.010000e+02  2.010000e+02  2.010000e+02   \n",
       "mean      -4.536172e-16  9.555651e-17  9.903631e-16  4.032153e-17   \n",
       "std        1.000000e+00  1.000000e+00  1.000000e+00  1.000000e+00   \n",
       "min       -7.900889e-01 -1.482566e+00 -2.023763e+00 -1.896106e+00   \n",
       "25%       -3.905848e-01 -8.937896e-01 -6.642526e-01 -9.619948e-01   \n",
       "50%       -2.907088e-01 -2.247250e-01  1.902258e-15 -1.835690e-01   \n",
       "75%       -1.908328e-01  3.372892e-01  7.998359e-01  7.505418e-01   \n",
       "max        3.204952e+00  4.244626e+00  3.100546e+00  3.708560e+00   \n",
       "\n",
       "        highway-mpg         price  \n",
       "count  2.010000e+02    201.000000  \n",
       "mean  -1.673620e-16  13207.129353  \n",
       "std    1.000000e+00   7947.066342  \n",
       "min   -2.154988e+00   5118.000000  \n",
       "25%   -8.344009e-01   7775.000000  \n",
       "50%   -1.007413e-01  10295.000000  \n",
       "75%    4.861863e-01  16500.000000  \n",
       "max    3.420825e+00  45400.000000  "
      ]
     },
     "execution_count": 11,
     "metadata": {},
     "output_type": "execute_result"
    }
   ],
   "source": [
    "cars_norm['price'] = cars_num['price']\n",
    "cars_norm.describe()"
   ]
  },
  {
   "cell_type": "markdown",
   "metadata": {},
   "source": [
    "### 3. Machine learning\n",
    "\n",
    "We're going to use test/train validation. We'll create both uni- and multivariate KNN models, estimate the error for each case, and select the best model (with the lowest error)."
   ]
  },
  {
   "cell_type": "markdown",
   "metadata": {},
   "source": [
    "#### 3.1. Univariate k-nearest neighbors model\n",
    "\n",
    "We will start with creating simple univariate KNN models, one for each numeric column and different k-Neighbors. As an evaluation metric, we'll use RMSE."
   ]
  },
  {
   "cell_type": "code",
   "execution_count": 12,
   "metadata": {},
   "outputs": [],
   "source": [
    "# Creating function for univariate k-nearest neighbors model\n",
    "\n",
    "def knn_train_test(feature_col, target_col, df, k=5):\n",
    "    df2 = df.copy()\n",
    "    np.random.seed(1)\n",
    "    shuffled_index = np.random.permutation(df2.index)\n",
    "    df2 = df2.reindex(shuffled_index)\n",
    "    div_index = int(len(df2)/2)\n",
    "    train = df2.iloc[:div_index]\n",
    "    test = df2.iloc[div_index:]\n",
    "    \n",
    "    knn = KNeighborsRegressor(n_neighbors = k)\n",
    "    knn.fit(train[[feature_col]], train[[target_col]])\n",
    "    predictions = knn.predict(test[[feature_col]])\n",
    "    mse = mean_squared_error(test[[target_col]], predictions)\n",
    "    rmse = np.sqrt(mse)\n",
    "    return rmse"
   ]
  },
  {
   "cell_type": "code",
   "execution_count": 13,
   "metadata": {},
   "outputs": [
    {
     "data": {
      "text/plain": [
       "{'normalized-losses': {1: 7779.606037519503,\n",
       "  3: 7480.692360872743,\n",
       "  5: 7337.2848203845515,\n",
       "  7: 7795.000930504562,\n",
       "  9: 7705.82454665913},\n",
       " 'wheel-base': {1: 4493.734068810494,\n",
       "  3: 5120.161506064513,\n",
       "  5: 5461.490335934409,\n",
       "  7: 5448.173408324034,\n",
       "  9: 5738.621574471594},\n",
       " 'length': {1: 4577.003915399697,\n",
       "  3: 5087.460276710444,\n",
       "  5: 5429.644739577333,\n",
       "  7: 5307.702178308323,\n",
       "  9: 5383.054514833446},\n",
       " 'width': {1: 4559.257297950061,\n",
       "  3: 4606.421075087697,\n",
       "  5: 4772.510209128695,\n",
       "  7: 4715.979827895643,\n",
       "  9: 4736.091903473983},\n",
       " 'height': {1: 8904.04645636071,\n",
       "  3: 8277.609643045525,\n",
       "  5: 8132.467731772246,\n",
       "  7: 7704.344964170201,\n",
       "  9: 7779.56469282989},\n",
       " 'curb-weight': {1: 5288.0195725810245,\n",
       "  3: 5011.8789151002,\n",
       "  5: 4453.680702653493,\n",
       "  7: 4330.149364501495,\n",
       "  9: 4632.92525121302},\n",
       " 'engine-size': {1: 3227.659787364569,\n",
       "  3: 2946.7417879781224,\n",
       "  5: 3297.6997444813674,\n",
       "  7: 3563.43509928404,\n",
       "  9: 3831.764970642862},\n",
       " 'bore': {1: 8602.58848450066,\n",
       "  3: 6977.123411794459,\n",
       "  5: 6793.0574839170895,\n",
       "  7: 6828.8678082042015,\n",
       "  9: 6865.299025218018},\n",
       " 'stroke': {1: 9116.495955406906,\n",
       "  3: 7336.8141642206,\n",
       "  5: 8006.096427246941,\n",
       "  7: 7770.327723636479,\n",
       "  9: 7738.927579700744},\n",
       " 'compression-rate': {1: 8083.070177540802,\n",
       "  3: 7379.623321663306,\n",
       "  5: 6606.571345933599,\n",
       "  7: 6732.032905446027,\n",
       "  9: 7019.9512505224375},\n",
       " 'horsepower': {1: 4170.054848037801,\n",
       "  3: 4010.5218032337666,\n",
       "  5: 4047.376554982472,\n",
       "  7: 4383.729138557079,\n",
       "  9: 4505.9694416104885},\n",
       " 'peak-rpm': {1: 9511.480067750124,\n",
       "  3: 8529.467274695355,\n",
       "  5: 7643.0703228739185,\n",
       "  7: 7438.086088390939,\n",
       "  9: 7272.008119652165},\n",
       " 'city-mpg': {1: 5901.143574354764,\n",
       "  3: 4608.180446380397,\n",
       "  5: 4754.637378183515,\n",
       "  7: 5035.456896910003,\n",
       "  9: 5333.1616578530175},\n",
       " 'highway-mpg': {1: 6025.594966720739,\n",
       "  3: 4627.908507167689,\n",
       "  5: 4625.047587445843,\n",
       "  7: 4722.975580907234,\n",
       "  9: 5201.019510000462}}"
      ]
     },
     "execution_count": 13,
     "metadata": {},
     "output_type": "execute_result"
    }
   ],
   "source": [
    "# Testing the model for diff features and k values\n",
    "k_values = [1, 3, 5, 7, 9]\n",
    "feature_col = ['normalized-losses', 'wheel-base', 'length', 'width', 'height', \n",
    "                'curb-weight', 'engine-size', 'bore', 'stroke', 'compression-rate', \n",
    "                'horsepower', 'peak-rpm', 'city-mpg', 'highway-mpg']\n",
    "target_col = 'price'\n",
    "\n",
    "feature_k_rmse = {}\n",
    "\n",
    "for f in feature_col:\n",
    "    dict_of_rmse = {}\n",
    "    for k_v in k_values:\n",
    "        k_rmse = knn_train_test(f, target_col, cars_norm, k=k_v)\n",
    "        dict_of_rmse[k_v] = k_rmse\n",
    "    feature_k_rmse[f] = dict_of_rmse\n",
    "    \n",
    "feature_k_rmse"
   ]
  },
  {
   "cell_type": "code",
   "execution_count": 14,
   "metadata": {
    "scrolled": true
   },
   "outputs": [
    {
     "data": {
      "image/png": "[encoded data removed]",
      "text/plain": [
       "<Figure size 864x504 with 1 Axes>"
      ]
     },
     "metadata": {
      "needs_background": "light"
     },
     "output_type": "display_data"
    }
   ],
   "source": [
    "plt.figure(figsize=(12,7))\n",
    "for k,v in feature_k_rmse.items():\n",
    "    x = list(v.keys())\n",
    "    y = list(v.values())    \n",
    "    plt.plot(x,y)\n",
    "    \n",
    "plt.title('Univariate model comparison:\\ntrain-test validation', fontsize=30)    \n",
    "plt.xlabel('k-Neighbors', fontsize=22)\n",
    "plt.ylabel('RMSE', fontsize=22)\n",
    "plt.xticks([1,3,5,7,9], fontsize=14)\n",
    "plt.yticks(fontsize=14)\n",
    "sns.despine()\n",
    "plt.legend(feature_k_rmse.keys(), frameon=False, bbox_to_anchor=(1.3, 1), fontsize=14)\n",
    "plt.show()"
   ]
  },
  {
   "cell_type": "markdown",
   "metadata": {},
   "source": [
    "The univariate model with engine-size variable performed the best, demonstrating the lowest error and the highest predictive capacity for the price."
   ]
  },
  {
   "cell_type": "markdown",
   "metadata": {},
   "source": [
    "#### 3.2. Multivariate k-nearest neighbors model\n",
    "\n",
    "We'll try different combinations of the best features (with the lowest average RMSE) from the previous step to train and test a multivariate KNN model using the default k value (k=5): 2, 3, 4, and 5 best features:"
   ]
  },
  {
   "cell_type": "code",
   "execution_count": 15,
   "metadata": {},
   "outputs": [
    {
     "name": "stdout",
     "output_type": "stream",
     "text": [
      "engine-size          3373.460278\n",
      "horsepower           4223.530357\n",
      "width                4678.052063\n",
      "curb-weight          4743.330761\n",
      "highway-mpg          5040.509230\n",
      "city-mpg             5126.515991\n",
      "length               5156.973125\n",
      "wheel-base           5252.436179\n",
      "compression-rate     7164.249800\n",
      "bore                 7213.387243\n",
      "normalized-losses    7619.681739\n",
      "stroke               7993.732370\n",
      "peak-rpm             8078.822375\n",
      "height               8159.606698\n",
      "dtype: float64\n"
     ]
    }
   ],
   "source": [
    "#Compute average RMSE across different `k` values for each feature.\n",
    "feature_avg_rmse = {}\n",
    "for k,v in feature_k_rmse.items():\n",
    "    avg_rmse = sum(v.values())/len(v.values())\n",
    "    feature_avg_rmse[k] = avg_rmse\n",
    "series_avg_rmse = pd.Series(feature_avg_rmse)\n",
    "sorted_series_avg_rmse = series_avg_rmse.sort_values()\n",
    "print(sorted_series_avg_rmse)\n",
    "\n",
    "sorted_features = sorted_series_avg_rmse.index"
   ]
  },
  {
   "cell_type": "code",
   "execution_count": 16,
   "metadata": {},
   "outputs": [
    {
     "data": {
      "text/plain": [
       "{'2 best features': {5: 2938.1306900277887},\n",
       " '3 best features': {5: 3576.5381752208214},\n",
       " '4 best features': {5: 3435.145837075945},\n",
       " '5 best features': {5: 3457.4725012114936}}"
      ]
     },
     "execution_count": 16,
     "metadata": {},
     "output_type": "execute_result"
    }
   ],
   "source": [
    "#Creating function for multivariate k-nearest neighbors model\n",
    "\n",
    "def knn_train_test2(feature_list, target_col, df, k=5):\n",
    "    df2 = df.copy()\n",
    "    np.random.seed(1)\n",
    "    shuffled_index = np.random.permutation(df2.index)\n",
    "    df2 = df2.reindex(shuffled_index)\n",
    "    div_index = int(len(df2)/2)\n",
    "    train = df2.iloc[:div_index]\n",
    "    test = df2.iloc[div_index:]\n",
    "\n",
    "    dict_of_rmse = {}\n",
    "    k_values = [k]\n",
    "    \n",
    "    for k_v in k_values:\n",
    "        knn = KNeighborsRegressor(n_neighbors = k_v)\n",
    "        knn.fit(train[feature_list], train[[target_col]])\n",
    "        predictions = knn.predict(test[feature_list])\n",
    "        mse = mean_squared_error(test[[target_col]], predictions)\n",
    "        rmse = np.sqrt(mse)\n",
    "        dict_of_rmse[k_v] = rmse\n",
    "    return dict_of_rmse\n",
    "\n",
    "k_rmse_results = {}\n",
    "\n",
    "for nr_best_feats in range(2,6):\n",
    "    k_rmse_results['{} best features'.format(nr_best_feats)] = knn_train_test2(\n",
    "        sorted_features[:nr_best_feats],\n",
    "        'price',\n",
    "        cars_norm\n",
    "    )\n",
    "\n",
    "k_rmse_results"
   ]
  },
  {
   "cell_type": "markdown",
   "metadata": {},
   "source": [
    "The models with 2 best features (engine-size, horsepower) got the lowest RMSE=2938."
   ]
  },
  {
   "cell_type": "markdown",
   "metadata": {},
   "source": [
    "#### 3.3. Hyperparameter Tuning\n",
    "\n",
    "\n",
    "Let's tune the hyperparameter k for each of the multivariate models and observe the results."
   ]
  },
  {
   "cell_type": "code",
   "execution_count": 17,
   "metadata": {},
   "outputs": [
    {
     "data": {
      "text/plain": [
       "{'2 best features': {1: 2824.8287076781794,\n",
       "  2: 2615.442453055988,\n",
       "  3: 2676.6521480521455,\n",
       "  4: 2831.7841198370656,\n",
       "  5: 2938.1306900277887,\n",
       "  6: 3128.516968715745,\n",
       "  7: 3204.0554389097565,\n",
       "  8: 3459.8826047221833,\n",
       "  9: 3715.847780310613,\n",
       "  10: 3980.307424292901},\n",
       " '3 best features': {1: 3384.9422637192606,\n",
       "  2: 3261.939437825234,\n",
       "  3: 3142.577321948092,\n",
       "  4: 3306.01101075266,\n",
       "  5: 3576.5381752208214,\n",
       "  6: 3709.4813226235947,\n",
       "  7: 3610.411169953427,\n",
       "  8: 3694.9374649086276,\n",
       "  9: 3848.9692035290686,\n",
       "  10: 3973.5807329145964},\n",
       " '4 best features': {1: 2734.943456978825,\n",
       "  2: 3094.990917547735,\n",
       "  3: 3079.4233224582636,\n",
       "  4: 3207.401445627884,\n",
       "  5: 3435.145837075945,\n",
       "  6: 3644.905717919087,\n",
       "  7: 3639.209218512767,\n",
       "  8: 3801.0236825048687,\n",
       "  9: 3839.0853087451715,\n",
       "  10: 3966.8524862569284},\n",
       " '5 best features': {1: 2497.7039476088817,\n",
       "  2: 2868.7261658018942,\n",
       "  3: 3001.7694405929055,\n",
       "  4: 3271.795489709763,\n",
       "  5: 3457.4725012114936,\n",
       "  6: 3666.511816712202,\n",
       "  7: 3636.3673115750908,\n",
       "  8: 3847.9789157124196,\n",
       "  9: 3866.743418256884,\n",
       "  10: 3987.374931214672}}"
      ]
     },
     "execution_count": 17,
     "metadata": {},
     "output_type": "execute_result"
    }
   ],
   "source": [
    "def knn_train_test3(feature_list, target_col, df, k=5):\n",
    "    df2 = df.copy()\n",
    "    np.random.seed(1)\n",
    "    shuffled_index = np.random.permutation(df2.index)\n",
    "    df2 = df2.reindex(shuffled_index)\n",
    "    div_index = int(len(df2)/2)\n",
    "    train = df2.iloc[:div_index]\n",
    "    test = df2.iloc[div_index:]\n",
    "\n",
    "    dict_of_rmse = {}\n",
    "    k_values = k\n",
    "    \n",
    "    for k_v in k_values:\n",
    "        knn = KNeighborsRegressor(n_neighbors = k_v)\n",
    "        knn.fit(train[feature_list], train[[target_col]])\n",
    "        predictions = knn.predict(test[feature_list])\n",
    "        mse = mean_squared_error(test[[target_col]], predictions)\n",
    "        rmse = np.sqrt(mse)\n",
    "        dict_of_rmse[k_v] = rmse\n",
    "    return dict_of_rmse\n",
    "\n",
    "k_rmse_results = {}\n",
    "\n",
    "for nr_best_feats in range(2,6):\n",
    "    k_rmse_results['{} best features'.format(nr_best_feats)] = knn_train_test3(\n",
    "        sorted_features[:nr_best_feats],\n",
    "        'price',\n",
    "        cars_norm,\n",
    "        k=range(1,11)\n",
    "    )\n",
    "\n",
    "k_rmse_results"
   ]
  },
  {
   "cell_type": "code",
   "execution_count": 18,
   "metadata": {},
   "outputs": [
    {
     "data": {
      "image/png": "[encoded data removed]",
      "text/plain": [
       "<Figure size 864x504 with 1 Axes>"
      ]
     },
     "metadata": {
      "needs_background": "light"
     },
     "output_type": "display_data"
    }
   ],
   "source": [
    "plt.figure(figsize=(12,7))\n",
    "for k,v in sorted(k_rmse_results.items()):\n",
    "    x = list(v.keys())\n",
    "    y = list(v.values())\n",
    "    plt.plot(x,y, label=\"{}\".format(k))\n",
    "\n",
    "plt.title('Multivariate model comparison:\\ntrain-test validation', fontsize=30)    \n",
    "plt.xlabel('k-Neighbors', fontsize=22)\n",
    "plt.ylabel('RMSE', fontsize=22)\n",
    "plt.xticks(range(1,11), fontsize=14)\n",
    "plt.yticks(fontsize=14)\n",
    "sns.despine()\n",
    "plt.legend(k_rmse_results.keys(), frameon=False, bbox_to_anchor=(1.3, 1), fontsize=16)\n",
    "plt.show()"
   ]
  },
  {
   "cell_type": "markdown",
   "metadata": {},
   "source": [
    "### Conclusion\n",
    "\n",
    "In this project, we used the KNN algorithm, to create uni- and multivariate ML models for predicting a car's market price. We tried different features, their combinations and diffrent number nearest neighbors. The main idea was to reduce the error of prediction on the test data and to ensure model feasibility for future unknown data.\n",
    "\n",
    "The lowest RMSE is related to the multivariate model with 5 features and k=1. However, considering too few nearest neighbors leads to the noise influence. A safer choice is the second best multivariate model with engine-size and horsepower, 2-3 k-Neighbors and RMSE = 2615 and 2676, respectively."
   ]
  }
 ],
 "metadata": {
  "kernelspec": {
   "display_name": "Python 3",
   "language": "python",
   "name": "python3"
  },
  "language_info": {
   "codemirror_mode": {
    "name": "ipython",
    "version": 3
   },
   "file_extension": ".py",
   "mimetype": "text/x-python",
   "name": "python",
   "nbconvert_exporter": "python",
   "pygments_lexer": "ipython3",
   "version": "3.8.8"
  }
 },
 "nbformat": 4,
 "nbformat_minor": 2
}
